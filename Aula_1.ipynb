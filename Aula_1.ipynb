{
  "nbformat": 4,
  "nbformat_minor": 0,
  "metadata": {
    "colab": {
      "provenance": []
    },
    "kernelspec": {
      "name": "python3",
      "display_name": "Python 3"
    },
    "language_info": {
      "name": "python"
    }
  },
  "cells": [
    {
      "cell_type": "code",
      "execution_count": 1,
      "metadata": {
        "colab": {
          "base_uri": "https://localhost:8080/"
        },
        "id": "00zY3JrbHHwJ",
        "outputId": "67b1548c-9377-49d8-f8c5-d18b3ee4e912"
      },
      "outputs": [
        {
          "output_type": "stream",
          "name": "stdout",
          "text": [
            "Olá, mundo!\n",
            "Digite seu nome: Giovani Vieira Lavall\n",
            "Olá, Giovani Vieira Lavall\n",
            "onde você mora cidade? Rio Negrinho \n",
            "Que legal\n",
            "sua idade: 25\n",
            "bom idade mais jovem, legal!\n",
            "tudo bem de vc bem sim \n",
            "que bom, tudo bem\n",
            "você esta curso?sim, curso de Java e Python (SERASA)\n",
            "que legal, continuar progresso aprender curso :)\n"
          ]
        }
      ],
      "source": [
        "print(\"Olá, mundo!\")\n",
        "nome = input(\"Digite seu nome: \")\n",
        "print(\"Olá, \" + nome)\n",
        "cidade = input(\"onde você mora cidade? \")\n",
        "print(\"Que legal\")\n",
        "idade = int(input(\"sua idade: \"))\n",
        "print(\"bom idade mais jovem, legal!\")\n",
        "saúde = input(\"tudo bem de vc \")\n",
        "print(\"que bom, tudo bem\")\n",
        "curso = input(\"você esta curso?\")\n",
        "print(\"que legal, continuar progresso aprender curso :)\")\n",
        "\n"
      ]
    }
  ]
}