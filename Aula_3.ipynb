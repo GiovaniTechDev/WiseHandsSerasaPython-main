{
  "nbformat": 4,
  "nbformat_minor": 0,
  "metadata": {
    "colab": {
      "provenance": []
    },
    "kernelspec": {
      "name": "python3",
      "display_name": "Python 3"
    },
    "language_info": {
      "name": "python"
    }
  },
  "cells": [
    {
      "cell_type": "code",
      "execution_count": 53,
      "metadata": {
        "colab": {
          "base_uri": "https://localhost:8080/"
        },
        "id": "RmVvLyp-EtlT",
        "outputId": "59770aad-51be-4ce6-9d49-09fbbd9adad0"
      },
      "outputs": [
        {
          "output_type": "stream",
          "name": "stdout",
          "text": [
            "Zenita\n"
          ]
        }
      ],
      "source": [
        "# Matriz\n",
        "\n",
        "lista_alunos_linha_0 = [\"Giovani\", \"Zenita\", \"Marino\"]\n",
        "lista_alunos_linha_1 = [\"Jéssica\", \"Priscila\", \"Gian\"]\n",
        "lista_alunos_linha_2 = [\"Douglas\", \"Tatiana\", \"Jonathan\"]\n",
        "matriz = [\n",
        "    lista_alunos_linha_0,\n",
        "    lista_alunos_linha_1,\n",
        "    lista_alunos_linha_2\n",
        "]\n",
        "\n",
        "\n",
        " # Quero mostrar Zenita\n",
        "print(matriz[0][1])"
      ]
    },
    {
      "cell_type": "code",
      "source": [
        "#  Quero somar toas as limhas da minha matrz\n",
        "\n",
        "matriz = [\n",
        "    [0, 10, 20],\n",
        "    [30, 40, 50],\n",
        "    [60, 70, 80]\n",
        "]\n",
        "\n",
        "for linha in matriz:\n",
        "  soma_linha = sum(linha)\n",
        "  print(soma_linha)"
      ],
      "metadata": {
        "colab": {
          "base_uri": "https://localhost:8080/"
        },
        "id": "SzDyop_OKrAZ",
        "outputId": "78dcd744-9911-4ce5-f626-4bd4570f1a6f"
      },
      "execution_count": 54,
      "outputs": [
        {
          "output_type": "stream",
          "name": "stdout",
          "text": [
            "30\n",
            "120\n",
            "210\n"
          ]
        }
      ]
    },
    {
      "cell_type": "code",
      "source": [
        "# Quero somar todos o número par na matriz\n",
        "\n",
        "matriz = [\n",
        "    [3, 7, 10],\n",
        "    [1, 2, 6],\n",
        "    [356, 29, 18],\n",
        "    [19, 2, 7],\n",
        "    [10, 23, 7, 9, 100, 978]\n",
        "]\n",
        "\n",
        "\n",
        "soma_numero_par = 0\n",
        "\n",
        "for linha in matriz:\n",
        "   for coluna in linha: #\n",
        "    if coluna % 2 == 0: # Valido se o número é par\n",
        "      soma_numero_par = coluna + soma_numero_par\n",
        "\n",
        "print(\"Total par: \", soma_numero_par)\n",
        "\n",
        "\n"
      ],
      "metadata": {
        "colab": {
          "base_uri": "https://localhost:8080/"
        },
        "id": "5QehjVEiNe88",
        "outputId": "3a1eff3c-a9f7-4bac-d8f1-20e68af0f407"
      },
      "execution_count": 55,
      "outputs": [
        {
          "output_type": "stream",
          "name": "stdout",
          "text": [
            "Total par:  1482\n"
          ]
        }
      ]
    },
    {
      "cell_type": "code",
      "source": [
        "# Dicionario em Python\n",
        "\n",
        "dados_alunos = {\n",
        "    'Nome' : ['Giovani', 'Jonathan', 'João', 'Lucas' ],\n",
        "    'Idade' : [120, 20, 30, 25],\n",
        "    'UF' : ['RS', 'RJ', 'SP', 'BH']\n",
        "\n",
        "}\n",
        "\n",
        "print(dados_alunos)"
      ],
      "metadata": {
        "colab": {
          "base_uri": "https://localhost:8080/"
        },
        "id": "hVMDw-7aYZyV",
        "outputId": "fbdb0ccf-7307-424d-84d2-5f069bb45dec"
      },
      "execution_count": 56,
      "outputs": [
        {
          "output_type": "stream",
          "name": "stdout",
          "text": [
            "{'Nome': ['Giovani', 'Jonathan', 'João', 'Lucas'], 'Idade': [120, 20, 30, 25], 'UF': ['RS', 'RJ', 'SP', 'BH']}\n"
          ]
        }
      ]
    },
    {
      "cell_type": "code",
      "source": [
        "#  Quero retornar o nome Brenda\n",
        "\n",
        "print(dados_alunos['Nome'][1])"
      ],
      "metadata": {
        "colab": {
          "base_uri": "https://localhost:8080/"
        },
        "id": "irgG-JRkadkh",
        "outputId": "2207d786-019f-411c-f4eb-a0665a69e778"
      },
      "execution_count": 57,
      "outputs": [
        {
          "output_type": "stream",
          "name": "stdout",
          "text": [
            "Jonathan\n"
          ]
        }
      ]
    },
    {
      "cell_type": "code",
      "source": [
        "dados_professores = {\n",
        "    'Nome' : ['Giovani', 'Jonathan', 'Jane', 'Monique'],\n",
        "    'UF' : ['SC', 'PR', 'RS', 'RJ']\n",
        "}"
      ],
      "metadata": {
        "id": "qcRnW2GMbgHp"
      },
      "execution_count": 59,
      "outputs": []
    },
    {
      "cell_type": "code",
      "source": [
        "import pandas as pd\n",
        "\n",
        "tabela = pd.DataFrame(dados_alunos)\n",
        "tabela"
      ],
      "metadata": {
        "colab": {
          "base_uri": "https://localhost:8080/",
          "height": 175
        },
        "id": "BHJpo6YOdR3t",
        "outputId": "37b3a573-5ddf-4538-c330-af62f4e75518"
      },
      "execution_count": 60,
      "outputs": [
        {
          "output_type": "execute_result",
          "data": {
            "text/plain": [
              "       Nome  Idade  UF\n",
              "0   Giovani    120  RS\n",
              "1  Jonathan     20  RJ\n",
              "2      João     30  SP\n",
              "3     Lucas     25  BH"
            ],
            "text/html": [
              "\n",
              "  <div id=\"df-cf435ce1-3073-4a7f-ab39-f69d2ea8ef06\">\n",
              "    <div class=\"colab-df-container\">\n",
              "      <div>\n",
              "<style scoped>\n",
              "    .dataframe tbody tr th:only-of-type {\n",
              "        vertical-align: middle;\n",
              "    }\n",
              "\n",
              "    .dataframe tbody tr th {\n",
              "        vertical-align: top;\n",
              "    }\n",
              "\n",
              "    .dataframe thead th {\n",
              "        text-align: right;\n",
              "    }\n",
              "</style>\n",
              "<table border=\"1\" class=\"dataframe\">\n",
              "  <thead>\n",
              "    <tr style=\"text-align: right;\">\n",
              "      <th></th>\n",
              "      <th>Nome</th>\n",
              "      <th>Idade</th>\n",
              "      <th>UF</th>\n",
              "    </tr>\n",
              "  </thead>\n",
              "  <tbody>\n",
              "    <tr>\n",
              "      <th>0</th>\n",
              "      <td>Giovani</td>\n",
              "      <td>120</td>\n",
              "      <td>RS</td>\n",
              "    </tr>\n",
              "    <tr>\n",
              "      <th>1</th>\n",
              "      <td>Jonathan</td>\n",
              "      <td>20</td>\n",
              "      <td>RJ</td>\n",
              "    </tr>\n",
              "    <tr>\n",
              "      <th>2</th>\n",
              "      <td>João</td>\n",
              "      <td>30</td>\n",
              "      <td>SP</td>\n",
              "    </tr>\n",
              "    <tr>\n",
              "      <th>3</th>\n",
              "      <td>Lucas</td>\n",
              "      <td>25</td>\n",
              "      <td>BH</td>\n",
              "    </tr>\n",
              "  </tbody>\n",
              "</table>\n",
              "</div>\n",
              "      <button class=\"colab-df-convert\" onclick=\"convertToInteractive('df-cf435ce1-3073-4a7f-ab39-f69d2ea8ef06')\"\n",
              "              title=\"Convert this dataframe to an interactive table.\"\n",
              "              style=\"display:none;\">\n",
              "        \n",
              "  <svg xmlns=\"http://www.w3.org/2000/svg\" height=\"24px\"viewBox=\"0 0 24 24\"\n",
              "       width=\"24px\">\n",
              "    <path d=\"M0 0h24v24H0V0z\" fill=\"none\"/>\n",
              "    <path d=\"M18.56 5.44l.94 2.06.94-2.06 2.06-.94-2.06-.94-.94-2.06-.94 2.06-2.06.94zm-11 1L8.5 8.5l.94-2.06 2.06-.94-2.06-.94L8.5 2.5l-.94 2.06-2.06.94zm10 10l.94 2.06.94-2.06 2.06-.94-2.06-.94-.94-2.06-.94 2.06-2.06.94z\"/><path d=\"M17.41 7.96l-1.37-1.37c-.4-.4-.92-.59-1.43-.59-.52 0-1.04.2-1.43.59L10.3 9.45l-7.72 7.72c-.78.78-.78 2.05 0 2.83L4 21.41c.39.39.9.59 1.41.59.51 0 1.02-.2 1.41-.59l7.78-7.78 2.81-2.81c.8-.78.8-2.07 0-2.86zM5.41 20L4 18.59l7.72-7.72 1.47 1.35L5.41 20z\"/>\n",
              "  </svg>\n",
              "      </button>\n",
              "      \n",
              "  <style>\n",
              "    .colab-df-container {\n",
              "      display:flex;\n",
              "      flex-wrap:wrap;\n",
              "      gap: 12px;\n",
              "    }\n",
              "\n",
              "    .colab-df-convert {\n",
              "      background-color: #E8F0FE;\n",
              "      border: none;\n",
              "      border-radius: 50%;\n",
              "      cursor: pointer;\n",
              "      display: none;\n",
              "      fill: #1967D2;\n",
              "      height: 32px;\n",
              "      padding: 0 0 0 0;\n",
              "      width: 32px;\n",
              "    }\n",
              "\n",
              "    .colab-df-convert:hover {\n",
              "      background-color: #E2EBFA;\n",
              "      box-shadow: 0px 1px 2px rgba(60, 64, 67, 0.3), 0px 1px 3px 1px rgba(60, 64, 67, 0.15);\n",
              "      fill: #174EA6;\n",
              "    }\n",
              "\n",
              "    [theme=dark] .colab-df-convert {\n",
              "      background-color: #3B4455;\n",
              "      fill: #D2E3FC;\n",
              "    }\n",
              "\n",
              "    [theme=dark] .colab-df-convert:hover {\n",
              "      background-color: #434B5C;\n",
              "      box-shadow: 0px 1px 3px 1px rgba(0, 0, 0, 0.15);\n",
              "      filter: drop-shadow(0px 1px 2px rgba(0, 0, 0, 0.3));\n",
              "      fill: #FFFFFF;\n",
              "    }\n",
              "  </style>\n",
              "\n",
              "      <script>\n",
              "        const buttonEl =\n",
              "          document.querySelector('#df-cf435ce1-3073-4a7f-ab39-f69d2ea8ef06 button.colab-df-convert');\n",
              "        buttonEl.style.display =\n",
              "          google.colab.kernel.accessAllowed ? 'block' : 'none';\n",
              "\n",
              "        async function convertToInteractive(key) {\n",
              "          const element = document.querySelector('#df-cf435ce1-3073-4a7f-ab39-f69d2ea8ef06');\n",
              "          const dataTable =\n",
              "            await google.colab.kernel.invokeFunction('convertToInteractive',\n",
              "                                                     [key], {});\n",
              "          if (!dataTable) return;\n",
              "\n",
              "          const docLinkHtml = 'Like what you see? Visit the ' +\n",
              "            '<a target=\"_blank\" href=https://colab.research.google.com/notebooks/data_table.ipynb>data table notebook</a>'\n",
              "            + ' to learn more about interactive tables.';\n",
              "          element.innerHTML = '';\n",
              "          dataTable['output_type'] = 'display_data';\n",
              "          await google.colab.output.renderOutput(dataTable, element);\n",
              "          const docLink = document.createElement('div');\n",
              "          docLink.innerHTML = docLinkHtml;\n",
              "          element.appendChild(docLink);\n",
              "        }\n",
              "      </script>\n",
              "    </div>\n",
              "  </div>\n",
              "  "
            ]
          },
          "metadata": {},
          "execution_count": 60
        }
      ]
    },
    {
      "cell_type": "code",
      "source": [
        "import matplotlib.pyplot as plt\n",
        "\n",
        "plt.bar(tabela['Nome'], tabela['Idade'])\n",
        "\n",
        "plt.xlabel('Nome')\n",
        "plt.ylabel('Idade')\n",
        "plt.title('Tabela alunos idade')\n",
        "\n",
        "plt.show()"
      ],
      "metadata": {
        "colab": {
          "base_uri": "https://localhost:8080/",
          "height": 472
        },
        "id": "aa18z6V2e_D_",
        "outputId": "87719d9c-66a0-4a45-e849-b4e1cb0e8b24"
      },
      "execution_count": 61,
      "outputs": [
        {
          "output_type": "display_data",
          "data": {
            "text/plain": [
              "<Figure size 640x480 with 1 Axes>"
            ],
            "image/png": "[encoded data removed]"
          },
          "metadata": {}
        }
      ]
    }
  ]
}