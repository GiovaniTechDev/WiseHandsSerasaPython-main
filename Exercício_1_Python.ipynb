{
  "nbformat": 4,
  "nbformat_minor": 0,
  "metadata": {
    "colab": {
      "provenance": [],
      "authorship_tag": "ABX9TyMOnZBhjHTSh6TUUOgCmJlU",
      "include_colab_link": true
    },
    "kernelspec": {
      "name": "python3",
      "display_name": "Python 3"
    },
    "language_info": {
      "name": "python"
    }
  },
  "cells": [
    {
      "cell_type": "markdown",
      "metadata": {
        "id": "view-in-github",
        "colab_type": "text"
      },
      "source": [
        "<a href=\"https://colab.research.google.com/github/GiovaniDevTech/WiseHandsSerasaPython/blob/main/Exerc%C3%ADcio_1_Python.ipynb\" target=\"_parent\"><img src=\"https://colab.research.google.com/assets/colab-badge.svg\" alt=\"Open In Colab\"/></a>"
      ]
    },
    {
      "cell_type": "code",
      "execution_count": 58,
      "metadata": {
        "colab": {
          "base_uri": "https://localhost:8080/"
        },
        "id": "tmwGsxRIXLZo",
        "outputId": "82a71b6b-0368-4021-cee7-50add1fcad28"
      },
      "outputs": [
        {
          "output_type": "stream",
          "name": "stdout",
          "text": [
            "Perguntar, o primeiro número: 2\n",
            "Perguntar, o segundo número: 3\n",
            "Valor da soma: 5.0\n"
          ]
        }
      ],
      "source": [
        "# Exercícios 1\n",
        "# Solicite ao usuário que digite dois números e exiba a soma deles.\n",
        "\n",
        "PrimeiroNumero = float(input(\"Perguntar, o primeiro número: \"))\n",
        "SegundoNumero = float(input(\"Perguntar, o segundo número: \"))\n",
        "\n",
        "soma = PrimeiroNumero + SegundoNumero\n",
        "\n",
        "print(\"Valor da soma:\", soma)"
      ]
    },
    {
      "cell_type": "code",
      "source": [
        "# Exercícios 2\n",
        "# Solicite ao usuário que digite um número e exiba se ele é par ou ímpar.\n",
        "\n",
        "numero = int(input(\"Digite um número: \"))\n",
        "\n",
        "#if e else condicional\n",
        "if numero % 10 == 0: # se for verdadeiro roda a linha de baixo\n",
        "  print(\"Esse número é par.\")\n",
        "else:                 # se for falso roda a linha de baixo\n",
        "  print(\"Essenúmero é impar.\")"
      ],
      "metadata": {
        "colab": {
          "base_uri": "https://localhost:8080/"
        },
        "id": "eOeN0rupYWjQ",
        "outputId": "691559e1-18b5-4c5a-aba9-26c125f994fe"
      },
      "execution_count": 59,
      "outputs": [
        {
          "output_type": "stream",
          "name": "stdout",
          "text": [
            "Digite um número: 25\n",
            "Essenúmero é impar.\n"
          ]
        }
      ]
    },
    {
      "cell_type": "code",
      "source": [
        "# Exercício 3\n",
        "# solicite ao usuário que digite uma temperatura em graus Celsius e converta-a para Fahrenheit.\n",
        "# A fórmula de conversão é: Fahrenheit = Celsius * 9/5 + 32.\n",
        "\n",
        "celsius = int(input(\"Digite a temperatura em grau Celsis para converter\"))\n",
        "\n",
        "fahrenheit = (celsius * 9/5) + 32\n",
        "\n",
        "print(\"%s Celsius é igual Fagrenheit %s\" % (celsius, fahrenheit))\n"
      ],
      "metadata": {
        "colab": {
          "base_uri": "https://localhost:8080/"
        },
        "id": "xQjI4-IHbFvX",
        "outputId": "f8495257-c655-40e3-b681-e1053bfecccb"
      },
      "execution_count": 60,
      "outputs": [
        {
          "output_type": "stream",
          "name": "stdout",
          "text": [
            "Digite a temperatura em grau Celsis para converter6\n",
            "6 Celsius é igual Fagrenheit 42.8\n"
          ]
        }
      ]
    },
    {
      "cell_type": "code",
      "source": [
        "# Exercício 4\n",
        "# solicite ao usuário que digite uma palavra e exiba quantas letras essa palavra contém.\n",
        "\n",
        "palavra = input(\"Digite uma palavra \")\n",
        "\n",
        "quantidadedeLetras = len(palavra) # mertodo len retorna a quantidade de letras em uma\n",
        "print(\"A palavra %s tem %s de letras\" % (palavra, quantidadedeLetras))\n",
        "\n"
      ],
      "metadata": {
        "colab": {
          "base_uri": "https://localhost:8080/"
        },
        "id": "y4QLiZx-6Cmn",
        "outputId": "a0e46a15-07b8-4da0-bf84-4b9c4b41bdef"
      },
      "execution_count": 61,
      "outputs": [
        {
          "output_type": "stream",
          "name": "stdout",
          "text": [
            "Digite uma palavra Giovani \n",
            "A palavra Giovani  tem 8 de letras\n"
          ]
        }
      ]
    },
    {
      "cell_type": "code",
      "source": [
        "# Exercício 5\n",
        "# exiba os números de 1 a 10 usando um loop.\n",
        "\n",
        "# numeros = [1,2,3,4,5,6,7,8,9,10]\n",
        "for index in range(10):\n",
        "  print(index + 1)\n",
        "\n",
        "\n",
        "\n"
      ],
      "metadata": {
        "colab": {
          "base_uri": "https://localhost:8080/"
        },
        "id": "_un_lj6I8A5x",
        "outputId": "d16917d0-1394-4191-8cce-f086fc3ddf56"
      },
      "execution_count": 62,
      "outputs": [
        {
          "output_type": "stream",
          "name": "stdout",
          "text": [
            "1\n",
            "2\n",
            "3\n",
            "4\n",
            "5\n",
            "6\n",
            "7\n",
            "8\n",
            "9\n",
            "10\n"
          ]
        }
      ]
    },
    {
      "cell_type": "code",
      "source": [
        "# Exercício 6\n",
        "# chamada \"verificar_primo\"\n",
        "# que recebe um número como parâmetro e retorna True se o número for primo e False caso contrário.\n",
        "\n",
        "# Numero primo somente é divisivel por ele e por 2\n",
        "\n",
        "def verificar_primo(numero):\n",
        "  if numero < 2:\n",
        "    return False\n",
        "\n",
        "  for divisor in range(2, int(numero / 2) + 1):\n",
        "    if numero % divisor == 0:\n",
        "      return False\n",
        "\n",
        "    return True\n",
        "\n",
        "numero = int(input(\"Digite um número: \"))\n",
        "if verificar_primo(numero) :\n",
        "  print(\"Esse número é impar\")\n",
        "else:\n",
        "  print(\"Esse número NÃO é impar\")\n"
      ],
      "metadata": {
        "colab": {
          "base_uri": "https://localhost:8080/"
        },
        "id": "dQW5Uuvs-kUy",
        "outputId": "994c7588-5118-4a78-d638-54d26774d054"
      },
      "execution_count": 63,
      "outputs": [
        {
          "output_type": "stream",
          "name": "stdout",
          "text": [
            "Digite um número: 5\n",
            "Esse número é impar\n"
          ]
        }
      ]
    },
    {
      "cell_type": "code",
      "source": [
        "lista_alunos = [\"Giovani\", \"João\", \"Marino\", \"Jonathan\", \"Lucas\" ]\n",
        "\n",
        "print(\"Mostre quem é\")\n",
        "print(lista_alunos[2])\n",
        "print(\"Professor é\")\n",
        "print(lista_alunos[2])"
      ],
      "metadata": {
        "colab": {
          "base_uri": "https://localhost:8080/"
        },
        "id": "x1z7JpS2QES5",
        "outputId": "079133bd-4fe6-478f-b2cf-ecee0000a2cb"
      },
      "execution_count": 47,
      "outputs": [
        {
          "output_type": "stream",
          "name": "stdout",
          "text": [
            "Mostre quem é\n",
            "Marino\n",
            "Professor é\n",
            "Marino\n"
          ]
        }
      ]
    },
    {
      "cell_type": "code",
      "source": [
        "\n",
        "# Quantos alunos eu tenho na Lista\n",
        "\n",
        "quantidade_alunos = len(lista_alunos)\n",
        "print(quantidade_alunos)"
      ],
      "metadata": {
        "colab": {
          "base_uri": "https://localhost:8080/"
        },
        "id": "xK1GKRGER9F-",
        "outputId": "d67a3868-9b56-4b19-9521-00b688bb713f"
      },
      "execution_count": 48,
      "outputs": [
        {
          "output_type": "stream",
          "name": "stdout",
          "text": [
            "5\n"
          ]
        }
      ]
    },
    {
      "cell_type": "code",
      "source": [
        "# Agora quero adicionar o Giovani\n",
        "\n",
        "lista_alunos.append(\"Giovani\")\n",
        "print(lista_alunos)"
      ],
      "metadata": {
        "colab": {
          "base_uri": "https://localhost:8080/"
        },
        "id": "PIVtHR7-Sj5o",
        "outputId": "1690e8b3-d477-4e7e-bbb7-fafdd9487afb"
      },
      "execution_count": 49,
      "outputs": [
        {
          "output_type": "stream",
          "name": "stdout",
          "text": [
            "['Giovani', 'João', 'Marino', 'Jonathan', 'Lucas', 'Giovani']\n"
          ]
        }
      ]
    },
    {
      "cell_type": "code",
      "source": [
        "# Agoea quero remover o Marino\n",
        "\n",
        "lista_alunos.remove(\"Marino\")\n",
        "print(lista_alunos)"
      ],
      "metadata": {
        "colab": {
          "base_uri": "https://localhost:8080/"
        },
        "id": "lwidCdcuTFbv",
        "outputId": "9b8511a0-b22b-4548-c2bd-2b92ec90d0be"
      },
      "execution_count": 50,
      "outputs": [
        {
          "output_type": "stream",
          "name": "stdout",
          "text": [
            "['Giovani', 'João', 'Jonathan', 'Lucas', 'Giovani']\n"
          ]
        }
      ]
    },
    {
      "cell_type": "code",
      "source": [
        "# agora que limpar o minha lista de alunos\n",
        "\n",
        "lista_alunos.clear()\n",
        "print(lista_alunos)"
      ],
      "metadata": {
        "colab": {
          "base_uri": "https://localhost:8080/"
        },
        "id": "k_y1KbwJTpCm",
        "outputId": "d699a33e-edce-4629-b378-e8675a7f196f"
      },
      "execution_count": 51,
      "outputs": [
        {
          "output_type": "stream",
          "name": "stdout",
          "text": [
            "[]\n"
          ]
        }
      ]
    },
    {
      "cell_type": "code",
      "source": [
        "# agora quero verificar se o aluno Jonathan\n",
        "\n",
        "if \"Jonathan\" in lista_alunos:\n",
        "  print(\"Jonathan esta na Lista\")\n",
        "else:\n",
        "  print(\"Aluno não esta na Lista\")"
      ],
      "metadata": {
        "colab": {
          "base_uri": "https://localhost:8080/"
        },
        "id": "Dig9sjcyT0cc",
        "outputId": "84d60f71-dc8c-4cb4-dd34-1529955ff400"
      },
      "execution_count": 55,
      "outputs": [
        {
          "output_type": "stream",
          "name": "stdout",
          "text": [
            "Aluno não esta na Lista\n"
          ]
        }
      ]
    }
  ]
}