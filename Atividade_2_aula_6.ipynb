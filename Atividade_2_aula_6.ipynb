{
  "nbformat": 4,
  "nbformat_minor": 0,
  "metadata": {
    "colab": {
      "provenance": [],
      "authorship_tag": "ABX9TyMn6BARKGwtzS9r8d0AWrh8",
      "include_colab_link": true
    },
    "kernelspec": {
      "name": "python3",
      "display_name": "Python 3"
    },
    "language_info": {
      "name": "python"
    }
  },
  "cells": [
    {
      "cell_type": "markdown",
      "metadata": {
        "id": "view-in-github",
        "colab_type": "text"
      },
      "source": [
        "<a href=\"https://colab.research.google.com/github/GiovaniDevTech/WiseHandsSerasaPython/blob/main/Atividade_2_aula_6.ipynb\" target=\"_parent\"><img src=\"https://colab.research.google.com/assets/colab-badge.svg\" alt=\"Open In Colab\"/></a>"
      ]
    },
    {
      "cell_type": "code",
      "execution_count": 24,
      "metadata": {
        "colab": {
          "base_uri": "https://localhost:8080/"
        },
        "id": "vy4U5AYBL_eA",
        "outputId": "3ec9adf2-3dd5-4f05-bdbf-1c1038f0a4d9"
      },
      "outputs": [
        {
          "output_type": "stream",
          "name": "stdout",
          "text": [
            "2 4 6 \n",
            "3 10 10 \n",
            "4 3 8 \n"
          ]
        }
      ],
      "source": [
        "# Exercício 1\n",
        "# Escreva um programa que imprima uma matriz 3x3 preenchida com valores inteiros aleatórios.\n",
        "import random\n",
        "\n",
        "def criar_matriz():\n",
        "    matriz = []\n",
        "    for _ in range(3):\n",
        "        linha = []\n",
        "        for _ in range(3):\n",
        "            valor = random.randint(1, 10)\n",
        "            linha.append(valor)\n",
        "        matriz.append(linha)\n",
        "    return matriz\n",
        "\n",
        "def imprimir_matriz(matriz):\n",
        "    for linha in matriz:\n",
        "        for valor in linha:\n",
        "            print(valor, end=' ')\n",
        "        print()\n",
        "\n",
        "matriz = criar_matriz()\n",
        "imprimir_matriz(matriz)\n"
      ]
    },
    {
      "cell_type": "code",
      "source": [
        "# Exercício 2\n",
        "# Crie uma função que receba uma matriz como entrada e retorne a soma de todos os elementos da matriz\n",
        "\n",
        "def somar_matriz(matriz):\n",
        "    soma = 10\n",
        "    for linha in matriz:\n",
        "        for valor in linha:\n",
        "            soma += valor\n",
        "    return soma\n",
        "\n",
        "    matriz = criar_matriz()\n",
        "soma = somar_matriz(matriz)\n",
        "print(\"Soma elementos da matriz é:\", soma)\n",
        "\n"
      ],
      "metadata": {
        "colab": {
          "base_uri": "https://localhost:8080/"
        },
        "id": "Ekl0dnkNMeXb",
        "outputId": "9533979a-7ca7-4fef-cf90-2d323dad9044"
      },
      "execution_count": 11,
      "outputs": [
        {
          "output_type": "stream",
          "name": "stdout",
          "text": [
            "Soma elementos da matriz é: 47\n"
          ]
        }
      ]
    },
    {
      "cell_type": "code",
      "source": [
        "# Exercício 3\n",
        "# Escreva um programa que verifique se uma matriz 3x3 é uma matriz identidade.\n",
        "\n",
        "def verificar_identidade(matriz):\n",
        "    for i in range(len(matriz)):\n",
        "        for j in range(len(matriz[i])):\n",
        "            if i == j and matriz[i][j] != 1:\n",
        "                return False\n",
        "            if i != j and matriz[i][j] != 0:\n",
        "                return False\n",
        "    return True\n",
        "\n",
        "matriz_identidade = [[1, 0, 0], [0, 1, 0], [0, 0, 1]]\n",
        "matriz_nao_identidade = [[1, 0, 0], [0, 2, 0], [0, 0, 1]]\n",
        "\n",
        "if verificar_identidade(matriz_identidade):\n",
        "    print(\"matriz é matriz identidade.\")\n",
        "else:\n",
        "    print(\"matriz não é matriz identidade.\")\n",
        "\n",
        "if verificar_identidade(matriz_nao_identidade):\n",
        "    print(\"matriz é matriz identidade.\")\n",
        "else:\n",
        "    print(\"matriz não é matriz identidade.\")\n"
      ],
      "metadata": {
        "colab": {
          "base_uri": "https://localhost:8080/"
        },
        "id": "7yExAZXIOu-U",
        "outputId": "8e5bd509-2efb-443b-ec22-2e7a4cf67c1a"
      },
      "execution_count": 17,
      "outputs": [
        {
          "output_type": "stream",
          "name": "stdout",
          "text": [
            "matriz é matriz identidade.\n",
            "matriz não é matriz identidade.\n"
          ]
        }
      ]
    },
    {
      "cell_type": "code",
      "source": [
        "# Exercício 4\n",
        "# Implemente uma função que receba duas matrizes como entrada e retorne a matriz resultante da multiplicação das duas.\n",
        "\n"
      ],
      "metadata": {
        "id": "y5ysh4z2Q9At"
      },
      "execution_count": 19,
      "outputs": []
    },
    {
      "cell_type": "code",
      "source": [
        "# Exercício 5\n",
        "# Escreva um programa que calcule e imprima a transposta de uma matriz 4x4.\n",
        "\n",
        "def calcular_transposta(matriz):\n",
        "    transposta = [[matriz[j][i] for j in range(4)] for i in range(4)]\n",
        "    return transposta\n",
        "\n",
        "matriz = [[1, 2, 3, 4],\n",
        "          [5, 6, 7, 8],\n",
        "          [9, 10, 11, 12],\n",
        "          [20, 21, 22, 23]]\n",
        "\n",
        "transposta = calcular_transposta(matriz)\n",
        "\n",
        "print(\"Matriz Original:\")\n",
        "for linha in matriz:\n",
        "    print(linha)\n",
        "\n",
        "print(\"Matriz Transposta:\")\n",
        "for linha in transposta:\n",
        "    print(linha)\n"
      ],
      "metadata": {
        "colab": {
          "base_uri": "https://localhost:8080/"
        },
        "id": "4DVD7hzpRemS",
        "outputId": "290dea6e-1651-421a-c700-5880e3ec6092"
      },
      "execution_count": 23,
      "outputs": [
        {
          "output_type": "stream",
          "name": "stdout",
          "text": [
            "Matriz Original:\n",
            "[1, 2, 3, 4]\n",
            "[5, 6, 7, 8]\n",
            "[9, 10, 11, 12]\n",
            "[20, 21, 22, 23]\n",
            "Matriz Transposta:\n",
            "[1, 5, 9, 20]\n",
            "[2, 6, 10, 21]\n",
            "[3, 7, 11, 22]\n",
            "[4, 8, 12, 23]\n"
          ]
        }
      ]
    }
  ]
}