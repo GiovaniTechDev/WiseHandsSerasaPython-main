{
  "nbformat": 4,
  "nbformat_minor": 0,
  "metadata": {
    "colab": {
      "provenance": [],
      "authorship_tag": "ABX9TyM1dOkGh1DKdbKPDAgL7iZ+",
      "include_colab_link": true
    },
    "kernelspec": {
      "name": "python3",
      "display_name": "Python 3"
    },
    "language_info": {
      "name": "python"
    }
  },
  "cells": [
    {
      "cell_type": "markdown",
      "metadata": {
        "id": "view-in-github",
        "colab_type": "text"
      },
      "source": [
        "<a href=\"https://colab.research.google.com/github/GiovaniDevTech/WiseHandsSerasaPython/blob/main/Atividade_1.ipynb\" target=\"_parent\"><img src=\"https://colab.research.google.com/assets/colab-badge.svg\" alt=\"Open In Colab\"/></a>"
      ]
    },
    {
      "cell_type": "code",
      "execution_count": 1,
      "metadata": {
        "colab": {
          "base_uri": "https://localhost:8080/"
        },
        "id": "377FUoCwj1aT",
        "outputId": "d0b69909-5acc-4624-bf58-babca35d0967"
      },
      "outputs": [
        {
          "output_type": "stream",
          "name": "stdout",
          "text": [
            "Números pares:\n",
            "2\n",
            "4\n",
            "6\n",
            "8\n",
            "10\n"
          ]
        }
      ],
      "source": [
        "# Exercício\n",
        "# cria uma lista de números inteiros e exiba todos os\n",
        "# números pares dessa lista.\n",
        "\n",
        "def exibir_numeros_pares(lista):\n",
        "    numeros_pares = [num for num in lista if num % 2 == 0]\n",
        "    return numeros_pares\n",
        "\n",
        "numeros = [1, 2, 3, 4, 5, 6, 7, 8, 9, 10]\n",
        "\n",
        "pares = exibir_numeros_pares(numeros)\n",
        "\n",
        "print(\"Números pares:\")\n",
        "for num in pares:\n",
        "    print(num)\n"
      ]
    },
    {
      "cell_type": "code",
      "source": [
        "# Exercício 2\n",
        "# que solicita ao usuário que digite várias palavras e\n",
        "# armazene-as em uma lista. Em seguida, exiba a lista ordenada em ordem alfabética\n",
        "\n",
        "palavras = input(\"Digite várias palavras, separadas por espaço: \")\n",
        "\n",
        "lista_palavras = palavras.split()\n",
        "lista_palavras.sort()\n",
        "\n",
        "print(\"Lista ordenada em ordem alfabética:\")\n",
        "for palavra in lista_palavras:\n",
        "    print(palavra)\n"
      ],
      "metadata": {
        "colab": {
          "base_uri": "https://localhost:8080/"
        },
        "id": "rm2Okcpslv25",
        "outputId": "b85255e1-888d-411e-afd2-b08571eb0e62"
      },
      "execution_count": 5,
      "outputs": [
        {
          "output_type": "stream",
          "name": "stdout",
          "text": [
            "Digite várias palavras, separadas por espaço: maça banana morango \n",
            "Lista ordenada em ordem alfabética:\n",
            "banana\n",
            "maça\n",
            "morango\n"
          ]
        }
      ]
    },
    {
      "cell_type": "code",
      "source": [
        "# Exercício 3\n",
        "# cria uma lista de números inteiros e calcula a soma\n",
        "# de todos os elementos dessa lista.\n",
        "\n",
        "numeros = [1, 2, 3, 4, 5]\n",
        "soma = sum(numeros)\n",
        "\n",
        "print(\"A soma dos elementos da lista é:\", soma)\n"
      ],
      "metadata": {
        "colab": {
          "base_uri": "https://localhost:8080/"
        },
        "id": "ZzpySCAnsvUU",
        "outputId": "2f38ba6a-4436-4cb9-8b15-e31bc0d7f853"
      },
      "execution_count": 6,
      "outputs": [
        {
          "output_type": "stream",
          "name": "stdout",
          "text": [
            "A soma dos elementos da lista é: 15\n"
          ]
        }
      ]
    },
    {
      "cell_type": "code",
      "source": [
        "# Exercício 4\n",
        "# cria uma lista de nomes de cores (\"vermelho\",\n",
        "# \"verde\", \"azul\", etc.) e solicita ao usuário que digite um nome de cor. O programa deve\n",
        "# verificar se o nome de cor digitado está presente na lista e exibir uma mensagem adequada.\n",
        "\n",
        "\n",
        "# Criar lista nomes cores\n",
        "cores = [\"vermelho\", \"verde\", \"azul\", \"amarelo\", \"roxo\"]\n",
        "\n",
        "cor_desejada = input(\"Digite um nome de cor: \")\n",
        "\n",
        "if cor_desejada in cores:\n",
        "    print(\"A cor\", cor_desejada, \"está presente na lista!\")\n",
        "else:\n",
        "    print(\"A cor\", cor_desejada, \"não está presente na lista.\")\n"
      ],
      "metadata": {
        "colab": {
          "base_uri": "https://localhost:8080/"
        },
        "id": "owwcn_1DtLMN",
        "outputId": "35504d79-4200-4ef6-8a04-78f7ba20f69a"
      },
      "execution_count": 7,
      "outputs": [
        {
          "output_type": "stream",
          "name": "stdout",
          "text": [
            "Digite um nome de cor: azul \n",
            "A cor azul  não está presente na lista.\n"
          ]
        }
      ]
    },
    {
      "cell_type": "code",
      "source": [
        "# Exercício 5\n",
        "# chamada \"encontrar_maior\" que recebe uma lista de\n",
        "# números inteiros como parâmetro e retorna o maior número da lista\n",
        "\n",
        "def encontrar_maior(lista):\n",
        "    if not lista:\n",
        "        return None\n",
        "    else:\n",
        "        return max(lista)\n",
        "\n",
        "numeros = [10, 5, 8, 20, 3]\n",
        "maior_numero = encontrar_maior(numeros)\n",
        "print(\"O maior número da lista é:\", maior_numero)\n"
      ],
      "metadata": {
        "colab": {
          "base_uri": "https://localhost:8080/"
        },
        "id": "h9m0d2HOuD8p",
        "outputId": "d50f9084-1ffe-47c2-b1e8-5615e1e0e429"
      },
      "execution_count": 8,
      "outputs": [
        {
          "output_type": "stream",
          "name": "stdout",
          "text": [
            "O maior número da lista é: 20\n"
          ]
        }
      ]
    },
    {
      "cell_type": "code",
      "source": [
        "# Exercício 6\n",
        "# cria uma lista de números inteiros e remove todos os\n",
        "# números repetidos da lista, mantendo apenas uma ocorrência de cada número\n",
        "\n",
        "numeros = [1, 2, 3, 4, 3, 2, 5, 6, 1, 7, 8, 8, 9]\n",
        "\n",
        "numeros_sem_repeticao = []\n",
        "\n",
        "for numero in numeros:\n",
        "    if numero not in numeros_sem_repeticao:\n",
        "        numeros_sem_repeticao.append(numero)\n",
        "\n",
        "print(\"Lista original:\", numeros)\n",
        "print(\"Lista sem números repetidos:\", numeros_sem_repeticao)\n"
      ],
      "metadata": {
        "colab": {
          "base_uri": "https://localhost:8080/"
        },
        "id": "iZ7gjyiqusLU",
        "outputId": "075ecdd6-c2a9-4b3e-99af-10f9f9618950"
      },
      "execution_count": 1,
      "outputs": [
        {
          "output_type": "stream",
          "name": "stdout",
          "text": [
            "Lista original: [1, 2, 3, 4, 3, 2, 5, 6, 1, 7, 8, 8, 9]\n",
            "Lista sem números repetidos: [1, 2, 3, 4, 5, 6, 7, 8, 9]\n"
          ]
        }
      ]
    },
    {
      "cell_type": "code",
      "source": [
        "# Exercício 7\n",
        "# cria uma lista de números inteiros e inverte a ordem\n",
        "# dos elementos na lista.\n",
        "\n",
        "numeros = [1, 2, 3, 4, 5]\n",
        "\n",
        "numeros_invertidos = numeros[::-1]\n",
        "\n",
        "print(\"Lista original:\", numeros)\n",
        "print(\"Lista invertida:\", numeros_invertidos)\n"
      ],
      "metadata": {
        "colab": {
          "base_uri": "https://localhost:8080/"
        },
        "id": "yYiHafo7x8y0",
        "outputId": "5f2f64a2-d88a-4b20-fca7-38f21601047d"
      },
      "execution_count": 2,
      "outputs": [
        {
          "output_type": "stream",
          "name": "stdout",
          "text": [
            "Lista original: [1, 2, 3, 4, 5]\n",
            "Lista invertida: [5, 4, 3, 2, 1]\n"
          ]
        }
      ]
    },
    {
      "cell_type": "code",
      "source": [
        "# Exercício 8\n",
        "# chamada \"contar_ocorrencias\" que recebe uma lista e um\n",
        "# elemento como parâmetros e conta quantas vezes o elemento ocorre na lista.\n",
        "\n",
        "\n",
        "def contar_ocorrencias(lista, elemento):\n",
        "    contador = 0\n",
        "    for item in lista:\n",
        "        if item == elemento:\n",
        "            contador += 1\n",
        "    return contador\n",
        "\n",
        "numeros = [1, 2, 3, 4, 3, 2, 5, 6, 1, 7, 8, 8, 9]\n",
        "elemento = 2\n",
        "ocorrencias = contar_ocorrencias(numeros, elemento)\n",
        "print(\"O elemento\", elemento, \"ocorre\", ocorrencias, \"vezes na lista.\")\n"
      ],
      "metadata": {
        "colab": {
          "base_uri": "https://localhost:8080/"
        },
        "id": "EfCu5iDU0DQi",
        "outputId": "da49265c-2bf4-4309-e52c-c22276d96d5c"
      },
      "execution_count": 9,
      "outputs": [
        {
          "output_type": "stream",
          "name": "stdout",
          "text": [
            "O elemento 2 ocorre 2 vezes na lista.\n"
          ]
        }
      ]
    },
    {
      "cell_type": "code",
      "source": [
        "# Exercício 9\n",
        "# cria uma lista de nomes e remove todos os nomes\n",
        "# que começam com a letra \"A\".\n",
        "\n",
        "nomes = [\"Ana\", \"Carlos\", \"Amanda\", \"Alice\", \"Pedro\"]\n",
        "\n",
        "nomes_sem_A = [nome for nome in nomes if not nome.startswith(\"A\")]\n",
        "\n",
        "print(\"Lista original:\", nomes)\n",
        "print(\"Lista sem nomes que começam com 'A':\", nomes_sem_A)\n"
      ],
      "metadata": {
        "colab": {
          "base_uri": "https://localhost:8080/"
        },
        "id": "k7KyAesv0dIr",
        "outputId": "8b752da9-0ca7-4048-e296-d3be33a6a5f7"
      },
      "execution_count": 3,
      "outputs": [
        {
          "output_type": "stream",
          "name": "stdout",
          "text": [
            "Lista original: ['Ana', 'Carlos', 'Amanda', 'Alice', 'Pedro']\n",
            "Lista sem nomes que começam com 'A': ['Carlos', 'Pedro']\n"
          ]
        }
      ]
    },
    {
      "cell_type": "code",
      "source": [
        "# Exercício 10\n",
        "# cria uma lista de números inteiros e encontra o\n",
        "# segundo menor número da lista.\n",
        "\n",
        "numeros = [5, 2, 9, 1, 7, 3, 8, 4, 6]\n",
        "\n",
        "menor = min(numeros)\n",
        "\n",
        "numeros.remove(menor)\n",
        "\n",
        "segundo_menor = min(numeros)\n",
        "\n",
        "print(\"O segundo menor número da lista é:\", segundo_menor)\n"
      ],
      "metadata": {
        "colab": {
          "base_uri": "https://localhost:8080/"
        },
        "id": "nb0m6FTo0-1_",
        "outputId": "78ce4e26-5661-4490-fa29-3c5b3265f89e"
      },
      "execution_count": 4,
      "outputs": [
        {
          "output_type": "stream",
          "name": "stdout",
          "text": [
            "O segundo menor número da lista é: 2\n"
          ]
        }
      ]
    }
  ]
}